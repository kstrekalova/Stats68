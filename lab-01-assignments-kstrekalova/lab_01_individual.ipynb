{
 "cells": [
  {
   "cell_type": "markdown",
   "metadata": {},
   "source": [
    "# **STATS 68: Lab Individual Assignment 1**\n",
    "### **Points: 20**\n",
    "\n",
    "---\n",
    "\n",
    "Welcome to the first individual lab assignment for STATS 68. This assignment focuses on applying the data exploration concepts we've learned in class to a dataset of your choice. Dive deep, discover patterns, and prepare to share your insights!\n",
    "\n",
    "## **Submission Guidelines:**\n",
    "\n",
    "- Submit the assignment via version-control tool, i.e, git. Please have a look at the instruction on Canvas\n",
    "- Due: Wednesday, 04/09/2025, 11:59pm PDT. \n",
    "\n",
    "## **Important Steps for Completing Notebook:**\n",
    "\n",
    "1. **Regular Saving**: Frequently save your progress by clicking the save icon above. This ensures that all changes are preserved on your local computer.\n",
    "\n",
    "2. **Final Checks**:\n",
    "   - Before finalizing, restart the kernel and run all cells to ensure that your notebook executes correctly from start to finish.\n",
    "   - Verify that no outputs or calculations have changed unexpectedly after rerunning the cells.\n",
    "\n",
    "\n",
    "## Lab Study: Billionaires' Preference\n",
    "\n",
    "In this assignment, we will have an investigation on the preference of the world's billionaires for 2021. We will use collected data to study some research problems.\n",
    "\n",
    "---\n",
    "\n",
    "Good luck, and enjoy exploring your dataset!\n"
   ]
  },
  {
   "cell_type": "markdown",
   "metadata": {},
   "source": [
    "### 1. Name & ID [2.5 Point]\n",
    "\n",
    "**Your Name**: Kat Strekalova  \n",
    "**Your UCINetID**: kstrekal"
   ]
  },
  {
   "cell_type": "markdown",
   "metadata": {},
   "source": [
    "### 1. Load Datasets [2.5 point]\n",
    "\n",
    "1. You need to load the *forbes.csv* via pandas and store it as a dataframe"
   ]
  },
  {
   "cell_type": "code",
   "execution_count": 6,
   "metadata": {},
   "outputs": [],
   "source": [
    "#Import Python Packages \n",
    "import pandas as pd\n",
    "import matplotlib.pyplot as plt\n",
    "import numpy as np\n",
    "import seaborn as sns"
   ]
  },
  {
   "cell_type": "code",
   "execution_count": 10,
   "metadata": {
    "scrolled": true
   },
   "outputs": [],
   "source": [
    "# Load dataset\n",
    "df = pd.read_csv('forbes.csv')"
   ]
  },
  {
   "cell_type": "markdown",
   "metadata": {},
   "source": [
    "### 2. Analyze Data Structure [3 point]\n",
    "\n",
    "1. You need to display the number of rows and columns in this dataset [1.5 point]\n",
    "2. You need to display the very first 5 rows of the dataset [1.5 point]"
   ]
  },
  {
   "cell_type": "code",
   "execution_count": 15,
   "metadata": {},
   "outputs": [
    {
     "name": "stdout",
     "output_type": "stream",
     "text": [
      "(2755, 7)\n"
     ]
    },
    {
     "data": {
      "text/html": [
       "<div>\n",
       "<style scoped>\n",
       "    .dataframe tbody tr th:only-of-type {\n",
       "        vertical-align: middle;\n",
       "    }\n",
       "\n",
       "    .dataframe tbody tr th {\n",
       "        vertical-align: top;\n",
       "    }\n",
       "\n",
       "    .dataframe thead th {\n",
       "        text-align: right;\n",
       "    }\n",
       "</style>\n",
       "<table border=\"1\" class=\"dataframe\">\n",
       "  <thead>\n",
       "    <tr style=\"text-align: right;\">\n",
       "      <th></th>\n",
       "      <th>Name</th>\n",
       "      <th>NetWorth</th>\n",
       "      <th>Country</th>\n",
       "      <th>Source</th>\n",
       "      <th>Rank</th>\n",
       "      <th>Age</th>\n",
       "      <th>Industry</th>\n",
       "    </tr>\n",
       "  </thead>\n",
       "  <tbody>\n",
       "    <tr>\n",
       "      <th>0</th>\n",
       "      <td>Jeff Bezos</td>\n",
       "      <td>$177 B</td>\n",
       "      <td>United States</td>\n",
       "      <td>Amazon</td>\n",
       "      <td>1</td>\n",
       "      <td>57.0</td>\n",
       "      <td>Technology</td>\n",
       "    </tr>\n",
       "    <tr>\n",
       "      <th>1</th>\n",
       "      <td>Elon Musk</td>\n",
       "      <td>$151 B</td>\n",
       "      <td>United States</td>\n",
       "      <td>Tesla, SpaceX</td>\n",
       "      <td>2</td>\n",
       "      <td>49.0</td>\n",
       "      <td>Automotive</td>\n",
       "    </tr>\n",
       "    <tr>\n",
       "      <th>2</th>\n",
       "      <td>Bernard Arnault &amp; family</td>\n",
       "      <td>$150 B</td>\n",
       "      <td>France</td>\n",
       "      <td>LVMH</td>\n",
       "      <td>3</td>\n",
       "      <td>72.0</td>\n",
       "      <td>Fashion &amp; Retail</td>\n",
       "    </tr>\n",
       "    <tr>\n",
       "      <th>3</th>\n",
       "      <td>Bill Gates</td>\n",
       "      <td>$124 B</td>\n",
       "      <td>United States</td>\n",
       "      <td>Microsoft</td>\n",
       "      <td>4</td>\n",
       "      <td>65.0</td>\n",
       "      <td>Technology</td>\n",
       "    </tr>\n",
       "    <tr>\n",
       "      <th>4</th>\n",
       "      <td>Mark Zuckerberg</td>\n",
       "      <td>$97 B</td>\n",
       "      <td>United States</td>\n",
       "      <td>Facebook</td>\n",
       "      <td>5</td>\n",
       "      <td>36.0</td>\n",
       "      <td>Technology</td>\n",
       "    </tr>\n",
       "  </tbody>\n",
       "</table>\n",
       "</div>"
      ],
      "text/plain": [
       "                       Name NetWorth        Country         Source  Rank  \\\n",
       "0                Jeff Bezos   $177 B  United States         Amazon     1   \n",
       "1                 Elon Musk   $151 B  United States  Tesla, SpaceX     2   \n",
       "2  Bernard Arnault & family   $150 B         France           LVMH     3   \n",
       "3                Bill Gates   $124 B  United States      Microsoft     4   \n",
       "4           Mark Zuckerberg    $97 B  United States       Facebook     5   \n",
       "\n",
       "    Age          Industry  \n",
       "0  57.0        Technology  \n",
       "1  49.0        Automotive  \n",
       "2  72.0  Fashion & Retail  \n",
       "3  65.0        Technology  \n",
       "4  36.0        Technology  "
      ]
     },
     "execution_count": 15,
     "metadata": {},
     "output_type": "execute_result"
    }
   ],
   "source": [
    "# Number of rows & columns:\n",
    "print(df.shape)\n",
    "\n",
    "# First 5 rows:\n",
    "df.head()"
   ]
  },
  {
   "cell_type": "markdown",
   "metadata": {},
   "source": [
    "### 3. Industry of Billionaires [2.5 point]\n",
    "\n",
    "1. Please use the python command we learn in the lecture to count how many billionaires from different industry. (Count in each industry)"
   ]
  },
  {
   "cell_type": "code",
   "execution_count": 25,
   "metadata": {},
   "outputs": [
    {
     "name": "stdout",
     "output_type": "stream",
     "text": [
      "Industry\n",
      "Finance & Investments         371\n",
      "Technology                    365\n",
      "Manufacturing                 331\n",
      "Fashion & Retail              273\n",
      "Healthcare                    221\n",
      "Food & Beverage               219\n",
      "Real Estate                   215\n",
      "Diversified                   188\n",
      "Energy                        100\n",
      "Media & Entertainment          95\n",
      "Service                        75\n",
      "Metals & Mining                74\n",
      "Automotive                     68\n",
      "Construction & Engineering     44\n",
      "Logistics                      35\n",
      "Telecom                        32\n",
      "Gambling & Casinos             25\n",
      "Sports                         24\n",
      "Name: count, dtype: int64\n"
     ]
    }
   ],
   "source": [
    "billionaires_by_industry = df['Industry'].value_counts()\n",
    "print(billionaires_by_industry)"
   ]
  },
  {
   "cell_type": "markdown",
   "metadata": {},
   "source": [
    "### 4. Average Age of Billionaires from Technology  [2.5 point]\n",
    "\n",
    "1. Please use the python command we learn in the lecture to calculate the average age of the billionaires from Technology "
   ]
  },
  {
   "cell_type": "code",
   "execution_count": 31,
   "metadata": {},
   "outputs": [
    {
     "data": {
      "text/plain": [
       "63.1136023916293"
      ]
     },
     "execution_count": 31,
     "metadata": {},
     "output_type": "execute_result"
    }
   ],
   "source": [
    "avg_age = df['Age'].mean()\n",
    "avg_age"
   ]
  },
  {
   "cell_type": "markdown",
   "metadata": {},
   "source": [
    "### 5. Scatterplot  [2.5 point]\n",
    "\n",
    "1. Please run the following code to convert the categorical variable NetWorth of the billionaires to numerical variable [0.5 point] "
   ]
  },
  {
   "cell_type": "code",
   "execution_count": 33,
   "metadata": {},
   "outputs": [],
   "source": [
    "# Function to convert currency string to numerical value\n",
    "def convert_currency_to_numeric(value):\n",
    "    if 'B' in value:\n",
    "        # Remove the dollar sign and 'B', convert to float, and multiply by a billion\n",
    "        return float(value.replace('$', '').replace('B', '')) * 1e9\n",
    "    return value\n",
    "\n",
    "# Apply the conversion function to the 'NetWorth' column\n",
    "df['NetWorth'] = df['NetWorth'].apply(convert_currency_to_numeric)"
   ]
  },
  {
   "cell_type": "markdown",
   "metadata": {},
   "source": [
    "2. Please plot a scatterplot to display via using sns.lmplot() function from the seaborn package to create a scatterplot that visualizes the relationship between the Age and NetWorth variables. Please make sure to write the title, labels of x and y axis in the plot. [2 point]"
   ]
  },
  {
   "cell_type": "code",
   "execution_count": 35,
   "metadata": {
    "scrolled": true
   },
   "outputs": [
    {
     "data": {
      "text/plain": [
       "<seaborn.axisgrid.FacetGrid at 0x16d08ca40>"
      ]
     },
     "execution_count": 35,
     "metadata": {},
     "output_type": "execute_result"
    },
    {
     "data": {
      "image/png": "[encoded data removed]",
      "text/plain": [
       "<Figure size 500x500 with 1 Axes>"
      ]
     },
     "metadata": {},
     "output_type": "display_data"
    }
   ],
   "source": [
    "sns.lmplot(x='Age', y='NetWorth', data = df,\n",
    "           scatter_kws={'color': 'darkblue'},  \n",
    "           line_kws={'color': 'red'})  "
   ]
  },
  {
   "cell_type": "markdown",
   "metadata": {},
   "source": [
    "### Our Research Problems [2 point]\n",
    "\n",
    "1. In which industries are these billionaires most commonly employed? [1 point]\n",
    "2. Is there an obvious relationship between age and net worth among these billionaires? [1 point]"
   ]
  },
  {
   "cell_type": "markdown",
   "metadata": {},
   "source": [
    "The top industries are, in descending order: Finance & Investments, Technology, and Manufacturing.\n",
    "\n",
    "I would not say that there's any obvious relationship between age and net worth among these billionaires."
   ]
  }
 ],
 "metadata": {
  "kernelspec": {
   "display_name": "Python [conda env:base] *",
   "language": "python",
   "name": "conda-base-py"
  },
  "language_info": {
   "codemirror_mode": {
    "name": "ipython",
    "version": 3
   },
   "file_extension": ".py",
   "mimetype": "text/x-python",
   "name": "python",
   "nbconvert_exporter": "python",
   "pygments_lexer": "ipython3",
   "version": "3.12.7"
  }
 },
 "nbformat": 4,
 "nbformat_minor": 4
}
