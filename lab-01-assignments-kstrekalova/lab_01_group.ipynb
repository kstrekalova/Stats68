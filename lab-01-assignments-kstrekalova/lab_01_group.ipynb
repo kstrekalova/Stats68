{
 "cells": [
  {
   "cell_type": "markdown",
   "metadata": {},
   "source": [
    "# **STATS 68: Lab Group Assignment 1**\n",
    "### **Points: 5**\n",
    "\n",
    "---\n",
    "\n",
    "Welcome to the first group lab assignment for STATS 68. This assignment focuses on applying the data exploration concepts we've learned in class to a dataset of your choice. Dive deep, discover patterns, and prepare to share your insights!\n",
    "\n",
    "## **Submission Guidelines:**\n",
    "\n",
    "- Collaborate with your group members (up to 3 students). \n",
    "- Make sure to write all members' name and contributions of this assignment. For each group, it is sufficient to submit one group assignment. \n",
    "- Submit the assignment via version-control tool, i.e, git. \n",
    "- Due: Wednesday, 04/09/2025, 11:59pm PDT. \n",
    "\n",
    "## **Important Steps for Completing Notebook:**\n",
    "\n",
    "1. **Regular Saving**: Frequently save your progress by clicking the save icon above. This ensures that all changes are preserved on your local computer.\n",
    "\n",
    "2. **Final Checks**:\n",
    "   - Before finalizing, restart the kernel and run all cells to ensure that your notebook executes correctly from start to finish.\n",
    "   - Verify that no outputs or calculations have changed unexpectedly after rerunning the cells.\n",
    "\n",
    "---\n",
    "\n",
    "Good luck, and enjoy exploring your dataset!\n"
   ]
  },
  {
   "cell_type": "markdown",
   "metadata": {},
   "source": [
    "### 1. Group Members and Contributions [1 Point]\n",
    "\n",
    "**Group Name**:   Kat Strekalova & Xinyue Liang\n",
    "\n",
    "**Contributions**: We collaborated on #4; Xinyue Liang did #3, Kat did #2.\n",
    "\n",
    "*E.g., Group Name: Mike and Jack  \n",
    "Contributions: Mike did #1 and #3, Jack did #2, #4.*"
   ]
  },
  {
   "cell_type": "code",
   "execution_count": 42,
   "metadata": {},
   "outputs": [],
   "source": [
    "#Import Python Packages \n",
    "import pandas as pd\n",
    "import matplotlib.pyplot as plt\n",
    "import numpy as np\n",
    "import seaborn as sns"
   ]
  },
  {
   "cell_type": "markdown",
   "metadata": {},
   "source": [
    "### 2. Load Datasets [1.5 points]\n",
    "1. You need to find a dataset online, e.g., from https://archive.ics.uci.edu/datasets/. \n",
    "2. Save this dataset in the same folder as in this Jupyter Notebook. \n",
    "3. Load this dataset using pandas and display the last 5 rows. "
   ]
  },
  {
   "cell_type": "code",
   "execution_count": 44,
   "metadata": {},
   "outputs": [
    {
     "name": "stdout",
     "output_type": "stream",
     "text": [
      "     0  1  2  3  4  5  6  7  8  9   ... 13 14 15 16 17 18 19 20 21 22\n",
      "8119  e  k  s  n  f  n  a  c  b  y  ...  s  o  o  p  o  o  p  b  c  l\n",
      "8120  e  x  s  n  f  n  a  c  b  y  ...  s  o  o  p  n  o  p  b  v  l\n",
      "8121  e  f  s  n  f  n  a  c  b  n  ...  s  o  o  p  o  o  p  b  c  l\n",
      "8122  p  k  y  n  f  y  f  c  n  b  ...  k  w  w  p  w  o  e  w  v  l\n",
      "8123  e  x  s  n  f  n  a  c  b  y  ...  s  o  o  p  o  o  p  o  c  l\n",
      "\n",
      "[5 rows x 23 columns]\n"
     ]
    }
   ],
   "source": [
    "df = pd.read_csv('agaricus-lepiota.data', header=None)\n",
    "print(df.tail())"
   ]
  },
  {
   "cell_type": "markdown",
   "metadata": {},
   "source": [
    "### 3. Subset Variable [1.5 points]\n",
    "1. For this dataset, please pick up one variable and display(print) this variable [1 point]"
   ]
  },
  {
   "cell_type": "code",
   "execution_count": 34,
   "metadata": {},
   "outputs": [
    {
     "name": "stdout",
     "output_type": "stream",
     "text": [
      "0       p\n",
      "1       e\n",
      "2       e\n",
      "3       p\n",
      "4       e\n",
      "       ..\n",
      "8119    e\n",
      "8120    e\n",
      "8121    e\n",
      "8122    p\n",
      "8123    e\n",
      "Name: 0, Length: 8124, dtype: object\n"
     ]
    }
   ],
   "source": [
    "column_odor = df[0]\n",
    "print(column_odor)"
   ]
  },
  {
   "cell_type": "markdown",
   "metadata": {},
   "source": [
    "2. Answer the question: is this numerical variable or categorical variable? [0.5 point]"
   ]
  },
  {
   "cell_type": "markdown",
   "metadata": {},
   "source": [
    "Odor is a categorical variable; there are 9 categories of odors."
   ]
  },
  {
   "cell_type": "markdown",
   "metadata": {},
   "source": [
    "### 4. Visualization [1 point]\n",
    "\n",
    "1. If we would like to visualize this variable, which type of plot we should use? Write at least one way to visualize this variable, and there is no need to implement your ideas.  "
   ]
  },
  {
   "cell_type": "markdown",
   "metadata": {},
   "source": [
    "I would use a barplot to visualize how the numbers of mushrooms of each odor compare to each other. "
   ]
  }
 ],
 "metadata": {
  "kernelspec": {
   "display_name": "Python [conda env:base] *",
   "language": "python",
   "name": "conda-base-py"
  },
  "language_info": {
   "codemirror_mode": {
    "name": "ipython",
    "version": 3
   },
   "file_extension": ".py",
   "mimetype": "text/x-python",
   "name": "python",
   "nbconvert_exporter": "python",
   "pygments_lexer": "ipython3",
   "version": "3.12.7"
  }
 },
 "nbformat": 4,
 "nbformat_minor": 4
}
