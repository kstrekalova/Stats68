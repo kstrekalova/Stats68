{
 "cells": [
  {
   "cell_type": "markdown",
   "metadata": {},
   "source": [
    "# **STATS 68: Lab Individual Assignment 2**\n",
    "### **Points: 20**\n",
    "\n",
    "---\n",
    "\n",
    "Welcome to the first individual lab assignment for STATS 68. This assignment focuses on applying the data exploration concepts we've learned in class to a dataset of your choice. Dive deep, discover patterns, and prepare to share your insights!\n",
    "\n",
    "## **Submission Guidelines:**\n",
    "\n",
    "- Submit the assignment via version-control tool, i.e, git. Please have a look at the instruction on Canvas\n",
    "- Due: Wednesday, 04/16/2025, 11:59pm PDT. \n",
    "\n",
    "## **Important Steps for Completing Notebook:**\n",
    "\n",
    "1. **Regular Saving**: Frequently save your progress by clicking the save icon above. This ensures that all changes are preserved on your local computer.\n",
    "\n",
    "2. **Final Checks**:\n",
    "   - Before finalizing, restart the kernel and run all cells to ensure that your notebook executes correctly from start to finish.\n",
    "   - Verify that no outputs or calculations have changed unexpectedly after rerunning the cells.\n",
    "\n",
    "\n",
    "## Lab Study: Deep Analysis on Billionaires' Preference\n",
    "\n",
    "In this assignment, we will have further investigations on the preference of the world's billionaires for 2021. We will use **forbes.cvs** data to answer some research problems.\n",
    "\n",
    "---\n",
    "\n",
    "Good luck, and enjoy exploring your dataset!\n"
   ]
  },
  {
   "cell_type": "markdown",
   "metadata": {},
   "source": [
    "## 📚 Tutorial\n",
    "\n",
    "The following tutorial may be helpful as you work through the **individual** lab assignment:\n",
    "\n",
    "- Use them as references to reinforce your understanding.\n",
    "- Feel free to revisit them whenever you need guidance or clarification.\n",
    "\n",
    "> 🧠 Tip: Go through them before you work—they can save you time and help avoid common mistakes.\n"
   ]
  },
  {
   "cell_type": "markdown",
   "metadata": {},
   "source": [
    "### Filtering with Multiple Conditions\n",
    "\n",
    "When working with data in Pandas, you can filter a DataFrame using **multiple conditions** by combining them with:\n",
    "\n",
    "- `&` (and): to select rows where **all conditions** are true\n",
    "- `|` (or): to select rows where **at least one condition** is true\n",
    "\n",
    "Each condition must be enclosed in parentheses for proper evaluation."
   ]
  },
  {
   "cell_type": "code",
   "execution_count": 250,
   "metadata": {},
   "outputs": [
    {
     "data": {
      "text/html": [
       "<div>\n",
       "<style scoped>\n",
       "    .dataframe tbody tr th:only-of-type {\n",
       "        vertical-align: middle;\n",
       "    }\n",
       "\n",
       "    .dataframe tbody tr th {\n",
       "        vertical-align: top;\n",
       "    }\n",
       "\n",
       "    .dataframe thead th {\n",
       "        text-align: right;\n",
       "    }\n",
       "</style>\n",
       "<table border=\"1\" class=\"dataframe\">\n",
       "  <thead>\n",
       "    <tr style=\"text-align: right;\">\n",
       "      <th></th>\n",
       "      <th>x</th>\n",
       "      <th>y</th>\n",
       "    </tr>\n",
       "  </thead>\n",
       "  <tbody>\n",
       "    <tr>\n",
       "      <th>0</th>\n",
       "      <td>2</td>\n",
       "      <td>a</td>\n",
       "    </tr>\n",
       "    <tr>\n",
       "      <th>1</th>\n",
       "      <td>4</td>\n",
       "      <td>b</td>\n",
       "    </tr>\n",
       "    <tr>\n",
       "      <th>2</th>\n",
       "      <td>6</td>\n",
       "      <td>c</td>\n",
       "    </tr>\n",
       "    <tr>\n",
       "      <th>3</th>\n",
       "      <td>8</td>\n",
       "      <td>d</td>\n",
       "    </tr>\n",
       "  </tbody>\n",
       "</table>\n",
       "</div>"
      ],
      "text/plain": [
       "   x  y\n",
       "0  2  a\n",
       "1  4  b\n",
       "2  6  c\n",
       "3  8  d"
      ]
     },
     "execution_count": 250,
     "metadata": {},
     "output_type": "execute_result"
    }
   ],
   "source": [
    "import pandas as pd\n",
    "df_example = pd.DataFrame({'x':[2,4,6,8], 'y':['a','b','c','d']})\n",
    "df_example"
   ]
  },
  {
   "cell_type": "code",
   "execution_count": 251,
   "metadata": {},
   "outputs": [
    {
     "data": {
      "text/html": [
       "<div>\n",
       "<style scoped>\n",
       "    .dataframe tbody tr th:only-of-type {\n",
       "        vertical-align: middle;\n",
       "    }\n",
       "\n",
       "    .dataframe tbody tr th {\n",
       "        vertical-align: top;\n",
       "    }\n",
       "\n",
       "    .dataframe thead th {\n",
       "        text-align: right;\n",
       "    }\n",
       "</style>\n",
       "<table border=\"1\" class=\"dataframe\">\n",
       "  <thead>\n",
       "    <tr style=\"text-align: right;\">\n",
       "      <th></th>\n",
       "      <th>x</th>\n",
       "      <th>y</th>\n",
       "    </tr>\n",
       "  </thead>\n",
       "  <tbody>\n",
       "    <tr>\n",
       "      <th>1</th>\n",
       "      <td>4</td>\n",
       "      <td>b</td>\n",
       "    </tr>\n",
       "  </tbody>\n",
       "</table>\n",
       "</div>"
      ],
      "text/plain": [
       "   x  y\n",
       "1  4  b"
      ]
     },
     "execution_count": 251,
     "metadata": {},
     "output_type": "execute_result"
    }
   ],
   "source": [
    "df_example[(df_example['x']>2) & (df_example['x']<=4) & (df_example['y']=='b')]"
   ]
  },
  {
   "cell_type": "code",
   "execution_count": 252,
   "metadata": {
    "scrolled": true
   },
   "outputs": [
    {
     "data": {
      "text/html": [
       "<div>\n",
       "<style scoped>\n",
       "    .dataframe tbody tr th:only-of-type {\n",
       "        vertical-align: middle;\n",
       "    }\n",
       "\n",
       "    .dataframe tbody tr th {\n",
       "        vertical-align: top;\n",
       "    }\n",
       "\n",
       "    .dataframe thead th {\n",
       "        text-align: right;\n",
       "    }\n",
       "</style>\n",
       "<table border=\"1\" class=\"dataframe\">\n",
       "  <thead>\n",
       "    <tr style=\"text-align: right;\">\n",
       "      <th></th>\n",
       "      <th>x</th>\n",
       "      <th>y</th>\n",
       "    </tr>\n",
       "  </thead>\n",
       "  <tbody>\n",
       "    <tr>\n",
       "      <th>0</th>\n",
       "      <td>2</td>\n",
       "      <td>a</td>\n",
       "    </tr>\n",
       "    <tr>\n",
       "      <th>1</th>\n",
       "      <td>4</td>\n",
       "      <td>b</td>\n",
       "    </tr>\n",
       "    <tr>\n",
       "      <th>2</th>\n",
       "      <td>6</td>\n",
       "      <td>c</td>\n",
       "    </tr>\n",
       "    <tr>\n",
       "      <th>3</th>\n",
       "      <td>8</td>\n",
       "      <td>d</td>\n",
       "    </tr>\n",
       "  </tbody>\n",
       "</table>\n",
       "</div>"
      ],
      "text/plain": [
       "   x  y\n",
       "0  2  a\n",
       "1  4  b\n",
       "2  6  c\n",
       "3  8  d"
      ]
     },
     "execution_count": 252,
     "metadata": {},
     "output_type": "execute_result"
    }
   ],
   "source": [
    "df_example[(df_example['x']>4) | (df_example['y']=='a') | (df_example['y']=='b')]"
   ]
  },
  {
   "cell_type": "markdown",
   "metadata": {},
   "source": [
    "### A. Libraries Import [1 points]\n",
    "\n",
    "Please import necessary libraries"
   ]
  },
  {
   "cell_type": "code",
   "execution_count": 253,
   "metadata": {},
   "outputs": [],
   "source": [
    "import pandas as pd\n",
    "import matplotlib.pyplot as plt\n",
    "import numpy as np\n",
    "import seaborn as sns"
   ]
  },
  {
   "cell_type": "markdown",
   "metadata": {},
   "source": [
    "### B. DataFrame Import [1 points]\n",
    "\n",
    "Begin by reading the **Billionaires.csv** file into a Pandas DataFrame.  \n",
    "Then, display the **first 5 rows** to get an initial look at the structure and contents of the dataset."
   ]
  },
  {
   "cell_type": "code",
   "execution_count": 254,
   "metadata": {},
   "outputs": [
    {
     "name": "stdout",
     "output_type": "stream",
     "text": [
      "                       Name  NetWorth(unit: billions)        Country  \\\n",
      "0                Jeff Bezos                     177.0  United States   \n",
      "1                 Elon Musk                     151.0  United States   \n",
      "2  Bernard Arnault & family                     150.0         France   \n",
      "3                Bill Gates                     124.0  United States   \n",
      "4           Mark Zuckerberg                      97.0  United States   \n",
      "\n",
      "          Source  Rank  Age(years)          Industry  \n",
      "0         Amazon     1        57.0        Technology  \n",
      "1  Tesla, SpaceX     2        49.0        Automotive  \n",
      "2           LVMH     3        72.0  Fashion & Retail  \n",
      "3      Microsoft     4        65.0        Technology  \n",
      "4       Facebook     5        36.0        Technology  \n"
     ]
    }
   ],
   "source": [
    "df = pd.read_csv('forbes.csv', header=0)\n",
    "print(df.head())"
   ]
  },
  {
   "cell_type": "markdown",
   "metadata": {},
   "source": [
    "### C. Country of Residence vs. Industry Income Source (All Countries)\n",
    "\n",
    "In this section, we’ll explore whether there is a potential **association** between a billionaire’s **country of residence** and the **industry** through which they accumulated their wealth (as of 2021).\n",
    "\n",
    "---\n",
    "\n",
    "### C.1 Cross-Tabulating Counts [1 points]\n",
    "\n",
    "We’ll start by calculating the **number of billionaires** in the dataset for **each combination** of:\n",
    "\n",
    "- **Country of residence**, and  \n",
    "- **Industry** in which they earned their income"
   ]
  },
  {
   "cell_type": "code",
   "execution_count": 255,
   "metadata": {},
   "outputs": [
    {
     "name": "stdout",
     "output_type": "stream",
     "text": [
      "Industry        Automotive  Construction & Engineering  Diversified  Energy  \\\n",
      "Country                                                                       \n",
      "Algeria                  0                           0            0       0   \n",
      "Argentina                0                           0            1       2   \n",
      "Australia                1                           0            1       0   \n",
      "Austria                  2                           1            1       0   \n",
      "Belgium                  0                           0            0       0   \n",
      "...                    ...                         ...          ...     ...   \n",
      "United Kingdom           1                           1            6       1   \n",
      "United States           18                           3           11      33   \n",
      "Venezuela                0                           0            0       0   \n",
      "Vietnam                  1                           0            2       0   \n",
      "Zimbabwe                 0                           0            0       0   \n",
      "\n",
      "Industry        Fashion & Retail  Finance & Investments  Food & Beverage  \\\n",
      "Country                                                                    \n",
      "Algeria                        0                      0                1   \n",
      "Argentina                      0                      0                0   \n",
      "Australia                      5                      7                2   \n",
      "Austria                        2                      0                1   \n",
      "Belgium                        0                      1                0   \n",
      "...                          ...                    ...              ...   \n",
      "United Kingdom                 9                     11                2   \n",
      "United States                 54                    189               65   \n",
      "Venezuela                      0                      1                0   \n",
      "Vietnam                        0                      1                1   \n",
      "Zimbabwe                       0                      0                0   \n",
      "\n",
      "Industry        Gambling & Casinos  Healthcare  Logistics  Manufacturing  \\\n",
      "Country                                                                    \n",
      "Algeria                          0           0          0              0   \n",
      "Argentina                        0           1          0              0   \n",
      "Australia                        1           0          1              4   \n",
      "Austria                          1           0          1              2   \n",
      "Belgium                          0           0          0              1   \n",
      "...                            ...         ...        ...            ...   \n",
      "United Kingdom                   2           1          0              5   \n",
      "United States                    6          35          6             28   \n",
      "Venezuela                        0           0          0              0   \n",
      "Vietnam                          0           0          0              1   \n",
      "Zimbabwe                         0           0          0              0   \n",
      "\n",
      "Industry        Media & Entertainment  Metals & Mining  Real Estate  Service  \\\n",
      "Country                                                                        \n",
      "Algeria                             0                0            0        0   \n",
      "Argentina                           0                0            0        0   \n",
      "Australia                           2                8            8        0   \n",
      "Austria                             0                0            1        0   \n",
      "Belgium                             0                0            1        0   \n",
      "...                               ...              ...          ...      ...   \n",
      "United Kingdom                      2                1            6        0   \n",
      "United States                      38                2           49       20   \n",
      "Venezuela                           0                0            0        0   \n",
      "Vietnam                             0                0            0        0   \n",
      "Zimbabwe                            0                0            0        0   \n",
      "\n",
      "Industry        Sports  Technology  Telecom  \n",
      "Country                                      \n",
      "Algeria              0           0        0  \n",
      "Argentina            0           1        0  \n",
      "Australia            0           3        1  \n",
      "Austria              0           0        0  \n",
      "Belgium              0           0        0  \n",
      "...                ...         ...      ...  \n",
      "United Kingdom       1           4        3  \n",
      "United States       23         140        4  \n",
      "Venezuela            0           0        0  \n",
      "Vietnam              0           0        0  \n",
      "Zimbabwe             0           0        1  \n",
      "\n",
      "[70 rows x 18 columns]\n"
     ]
    }
   ],
   "source": [
    "# Number of billionaires for each combo of (country, industry)\n",
    "df_country_industry = pd.crosstab(df['Country'], df['Industry'])\n",
    "print(df_country_industry)"
   ]
  },
  {
   "cell_type": "markdown",
   "metadata": {},
   "source": [
    "### C.2 Subsetting the Data for Clarity [1.5 points]\n",
    "\n",
    "You may have noticed that many country–industry combinations contain **zero billionaires**, making the full cross-tabulation cluttered and harder to interpret.\n",
    "\n",
    "To simplify our analysis, let’s focus on a **smaller, more meaningful subset** of the data:\n",
    "\n",
    "> Please filter the dataset to include only **billionaires from the top three countries** with the **highest number of billionaires in 2021**, and store it as a new dataframe"
   ]
  },
  {
   "cell_type": "code",
   "execution_count": 256,
   "metadata": {},
   "outputs": [
    {
     "name": "stdout",
     "output_type": "stream",
     "text": [
      "                   Name  NetWorth(unit: billions)        Country  \\\n",
      "0            Jeff Bezos                     177.0  United States   \n",
      "1             Elon Musk                     151.0  United States   \n",
      "3            Bill Gates                     124.0  United States   \n",
      "4       Mark Zuckerberg                      97.0  United States   \n",
      "5        Warren Buffett                      96.0  United States   \n",
      "...                 ...                       ...            ...   \n",
      "2750  Daniel Yong Zhang                       1.0          China   \n",
      "2751      Zhang Yuqiang                       1.0          China   \n",
      "2752      Zhao Meiguang                       1.0          China   \n",
      "2753     Zhong Naixiong                       1.0          China   \n",
      "2754    Zhou Wei family                       1.0          China   \n",
      "\n",
      "                  Source  Rank  Age(years)               Industry  \n",
      "0                 Amazon     1        57.0             Technology  \n",
      "1          Tesla, SpaceX     2        49.0             Automotive  \n",
      "3              Microsoft     4        65.0             Technology  \n",
      "4               Facebook     5        36.0             Technology  \n",
      "5     Berkshire Hathaway     6        90.0  Finance & Investments  \n",
      "...                  ...   ...         ...                    ...  \n",
      "2750          e-commerce  2674        49.0             Technology  \n",
      "2751          Fiberglass  2674        65.0          Manufacturing  \n",
      "2752         gold mining  2674        58.0        Metals & Mining  \n",
      "2753        conglomerate  2674        58.0            Diversified  \n",
      "2754            Software  2674        54.0             Technology  \n",
      "\n",
      "[1490 rows x 7 columns]\n"
     ]
    }
   ],
   "source": [
    "# Dataframe of counts of billionaires by country, sorted in descending order:\n",
    "billionaire_counts_by_country = df['Country'].value_counts().sort_values(ascending=False)\n",
    "\n",
    "# First (highest) count: billionaire_counts_by_country.iloc[0], second is [1], third is [2] \n",
    "    ## BETTER: use billionaire_counts_by_country.nlargest(3).index <<<<<<<<<<<<<<<<<<<<<<<<<<< !! \n",
    "# Corresponding country: billionaire_counts_by_country.index[0] << [1], [2]\n",
    "\n",
    "# We determine COUNTRIES by using billionaire_counts_by_country, then filter original df to get those billionaires!!!\n",
    "top_3_countries = billionaire_counts_by_country.nlargest(3).index\n",
    "\n",
    "billionaires_from_top_3 = df[ \n",
    "                (df['Country'] == top_3_countries[0]) |\n",
    "                (df['Country'] == top_3_countries[1]) |\n",
    "                (df['Country'] == top_3_countries[2]) ] # note: don't forget parentheses!\n",
    "print(billionaires_from_top_3)"
   ]
  },
  {
   "cell_type": "markdown",
   "metadata": {},
   "source": [
    "### C.3 New Dataset [1.5 points]\n",
    "\n",
    "Now that we’ve filtered the dataset to include only the **top three countries** by billionaire count, let’s determine:\n",
    "\n",
    "> **What percentage of all 2021 billionaires** came from one of these top three countries?"
   ]
  },
  {
   "cell_type": "code",
   "execution_count": 257,
   "metadata": {},
   "outputs": [
    {
     "name": "stdout",
     "output_type": "stream",
     "text": [
      "54.08 %\n"
     ]
    }
   ],
   "source": [
    "# In other words, count of billionaires from billionaires_from_top_3 OVER count of billionaires from forbes. \n",
    "num_from_top_three = billionaires_from_top_3.shape[0]\n",
    "total = df.shape[0]\n",
    "percentage_bills_from_top_three = num_from_top_three/total\n",
    "print(round(percentage_bills_from_top_three*100, 2), \"%\")"
   ]
  },
  {
   "cell_type": "markdown",
   "metadata": {},
   "source": [
    "## D. Country of Residence vs. Industry Income Source — Top Three Countries\n",
    "\n",
    "Now that we’ve narrowed our focus to the **top three countries** with the highest number of billionaires, we can take a closer look at potential associations within this smaller, more meaningful subset.\n",
    "\n",
    "> Specifically, we want to examine whether there’s a noticeable relationship between a billionaire’s **country of residence** and the **industry** through which they earned their wealth — **but this time only for the top three countries** identified in the last section."
   ]
  },
  {
   "cell_type": "markdown",
   "metadata": {},
   "source": [
    "### D.1. Cross-Tabulating Counts (Top 3 Countries Only) [1 points]\n",
    "\n",
    "Using the filtered DataFrame from **Section C**, we’ll now calculate the **number of billionaires** for each combination of:\n",
    "\n",
    "- **Country of residence**, and  \n",
    "- **Industry** in which they earned their wealth"
   ]
  },
  {
   "cell_type": "code",
   "execution_count": 258,
   "metadata": {},
   "outputs": [
    {
     "name": "stdout",
     "output_type": "stream",
     "text": [
      "Industry       Automotive  Construction & Engineering  Diversified  Energy  \\\n",
      "Country                                                                      \n",
      "China                  17                           3           25      21   \n",
      "India                   6                           5           17       1   \n",
      "United States          18                           3           11      33   \n",
      "\n",
      "Industry       Fashion & Retail  Finance & Investments  Food & Beverage  \\\n",
      "Country                                                                   \n",
      "China                        33                     10               50   \n",
      "India                        13                      8               10   \n",
      "United States                54                    189               65   \n",
      "\n",
      "Industry       Gambling & Casinos  Healthcare  Logistics  Manufacturing  \\\n",
      "Country                                                                   \n",
      "China                           0          79          9            151   \n",
      "India                           0          24          0             27   \n",
      "United States                   6          35          6             28   \n",
      "\n",
      "Industry       Media & Entertainment  Metals & Mining  Real Estate  Service  \\\n",
      "Country                                                                       \n",
      "China                             15               16           55       27   \n",
      "India                              1                3            8        4   \n",
      "United States                     38                2           49       20   \n",
      "\n",
      "Industry       Sports  Technology  Telecom  \n",
      "Country                                     \n",
      "China               0         111        4  \n",
      "India               0          12        1  \n",
      "United States      23         140        4  \n"
     ]
    }
   ],
   "source": [
    "# billionaires_from_top_3\n",
    "# Number of billionaires for each combo of (country, industry)\n",
    "df_country_industry_top_3 = pd.crosstab(billionaires_from_top_3['Country'], \n",
    "                                        billionaires_from_top_3['Industry'])\n",
    "print(df_country_industry_top_3)"
   ]
  },
  {
   "cell_type": "code",
   "execution_count": 259,
   "metadata": {},
   "outputs": [],
   "source": [
    "# # Test\n",
    "# print(df_country_industry_top_3['Technology']) # works\n",
    "# print(df_country_industry_top_3['Technology'][0]) # works\n",
    "# ###print(df_country_industry_top_3['China']) # NOPE! \n",
    "    # # Industry is a column, so we can print it, but we can't print rows (Country)\n",
    "# print(df_country_industry_top_3.columns)\n",
    "# print(df_country_industry_top_3)"
   ]
  },
  {
   "cell_type": "markdown",
   "metadata": {},
   "source": [
    "### D.2. Likelihood of Industry-Type Billionaires Living in Each Country [1.5 points]\n",
    "\n",
    "Now, let’s explore the **distribution of billionaires by industry** across the **top three countries**. Specifically, we want to answer:\n",
    "\n",
    "> 🔍 *For each industry, what percentage of billionaires come from each country?*\n",
    "\n",
    "In other words:\n",
    "- What percent of **technology** billionaires are from **country 1**?\n",
    "- What percent are from **country 2**?\n",
    "- What percent are from **country 3**?"
   ]
  },
  {
   "cell_type": "code",
   "execution_count": 260,
   "metadata": {},
   "outputs": [],
   "source": [
    "# ASSUMPTION: getting percentage relative to ALL countries. E.g. country has X% of billionaires in Y, \n",
    "# where X = (that country's number of billionaires in industry Y)/(total number of billionaires in industry Y). "
   ]
  },
  {
   "cell_type": "code",
   "execution_count": 261,
   "metadata": {},
   "outputs": [
    {
     "name": "stdout",
     "output_type": "stream",
     "text": [
      "              Automotive Construction & Engineering Diversified Energy  \\\n",
      "Country                                                                  \n",
      "United States   0.264706                   0.068182    0.058511   0.33   \n",
      "China               0.25                   0.068182    0.132979   0.21   \n",
      "India           0.088235                   0.113636    0.090426   0.01   \n",
      "\n",
      "              Fashion & Retail Finance & Investments Food & Beverage  \\\n",
      "Country                                                                \n",
      "United States         0.197802              0.509434        0.296804   \n",
      "China                 0.120879              0.026954        0.228311   \n",
      "India                 0.047619              0.021563        0.045662   \n",
      "\n",
      "              Gambling & Casinos Healthcare Logistics Manufacturing  \\\n",
      "Country                                                               \n",
      "United States               0.24   0.158371  0.171429      0.084592   \n",
      "China                        0.0   0.357466  0.257143      0.456193   \n",
      "India                        0.0   0.108597       0.0      0.081571   \n",
      "\n",
      "              Media & Entertainment Metals & Mining Real Estate   Service  \\\n",
      "Country                                                                     \n",
      "United States                   0.4        0.027027    0.227907  0.266667   \n",
      "China                      0.157895        0.216216    0.255814      0.36   \n",
      "India                      0.010526        0.040541    0.037209  0.053333   \n",
      "\n",
      "                 Sports Technology  Telecom  \n",
      "Country                                      \n",
      "United States  0.958333   0.383562    0.125  \n",
      "China               0.0    0.30411    0.125  \n",
      "India               0.0   0.032877  0.03125  \n"
     ]
    }
   ],
   "source": [
    "## NEED:\n",
    "    #1) list of industries\n",
    "    #2) sum of bill.s in an industry across all countries\n",
    "    #3) number of bill.s in each industry for 3 top countries\n",
    "## GOAL: For each industry, what percentage of billionaires come from each of the 3 countries?\n",
    "\n",
    "#1) List of industries: \n",
    "industry_list = list(df_country_industry.columns)\n",
    "\n",
    "#2) Dataframe of counts by Industry vs Country:   df_country_industry\n",
    "#   List of sums of bill.s in each given industry: \n",
    "industry_totals = df_country_industry.sum()\n",
    "\n",
    "#3) List of top 3 countries: top_3_countries \n",
    "#   Number of bill.s in an industry for those 3: df_country_industry_top_3.loc[country, industry]\n",
    "\n",
    "# Dataframe for storing percentages for top 3 countries:\n",
    "top_3_percentages = pd.DataFrame(index = top_3_countries, columns = industry_list) \n",
    "#### to index China/Automotive: top_3_percentages.loc['China', 'Automotive']\n",
    "\n",
    "# for each of our countries of interest:\n",
    "for country in top_3_countries:\n",
    "    # for each industry: \n",
    "    for industry in industry_list:\n",
    "        # top_3_percentages[c,i] is count of bill.s in c,i divided by sum of bill.s in that industry\n",
    "        top_3_percentages.loc[country, industry] = df_country_industry_top_3.loc[country, industry] / industry_totals[industry]\n",
    "\n",
    "print(top_3_percentages)\n",
    "    "
   ]
  },
  {
   "cell_type": "markdown",
   "metadata": {},
   "source": [
    "### D.3. Data Interpretation [2 points]\n",
    "\n",
    "Use the table you created in **D.2.** to answer the following questions:\n",
    "\n",
    "1. **Which country has the highest percentage of technology billionaires?**  \n",
    "   - Based on the normalized cross-tabulation, identify which of the three countries contributes the largest share of billionaires in the **technology** industry.\n",
    "\n",
    "2. **For each of the three selected countries, which industry does that country have the highest percentage of billionaires in?**  \n",
    "   - Examine the rows in the table to determine which **industry** each country is most dominant in (i.e., where their percentage is highest compared to the other countries)."
   ]
  },
  {
   "cell_type": "code",
   "execution_count": 262,
   "metadata": {},
   "outputs": [
    {
     "name": "stdout",
     "output_type": "stream",
     "text": [
      "1)  United States has the highest percentage of technology billionaires.\n",
      "\n",
      "2) These countries have highest percentages of billionaires in the following industries (compared to other countries):\n",
      " Country\n",
      "United States                        Sports\n",
      "China                         Manufacturing\n",
      "India            Construction & Engineering\n",
      "dtype: object\n"
     ]
    }
   ],
   "source": [
    "#1\n",
    "print(\"1) \", top_3_percentages['Technology'].idxmax(), \"has the highest percentage of technology billionaires.\\n\")\n",
    "\n",
    "#2\n",
    "print(\"2) These countries have highest percentages of billionaires in the following industries (compared to other countries):\\n\", \n",
    "        top_3_percentages.idxmax(axis=1))\n"
   ]
  },
  {
   "cell_type": "markdown",
   "metadata": {},
   "source": [
    "### D.4. Likelihood of Country-Specific Billionaires Working in Each Industry [1.5 points]\n",
    "\n",
    "Now let’s flip the perspective.\n",
    "\n",
    "Instead of asking which country dominates an industry, we’ll explore:\n",
    "\n",
    "> 🔍 *For each of the three countries, what percentage of their billionaires work in each industry?*\n",
    "\n",
    "In other words:\n",
    "- What percent of **country 1’s** billionaires work in **technology**, **logistics**, **finance**, etc.?\n",
    "- Repeat this for **country 2** and **country 3**."
   ]
  },
  {
   "cell_type": "code",
   "execution_count": 263,
   "metadata": {},
   "outputs": [
    {
     "name": "stdout",
     "output_type": "stream",
     "text": [
      "              Automotive Construction & Engineering Diversified    Energy  \\\n",
      "Country                                                                     \n",
      "United States   0.024862                   0.004144    0.015193   0.04558   \n",
      "China           0.027157                   0.004792    0.039936  0.033546   \n",
      "India           0.042857                   0.035714    0.121429  0.007143   \n",
      "\n",
      "              Fashion & Retail Finance & Investments Food & Beverage  \\\n",
      "Country                                                                \n",
      "United States         0.074586               0.26105        0.089779   \n",
      "China                 0.052716              0.015974        0.079872   \n",
      "India                 0.092857              0.057143        0.071429   \n",
      "\n",
      "              Gambling & Casinos Healthcare Logistics Manufacturing  \\\n",
      "Country                                                               \n",
      "United States           0.008287   0.048343  0.008287      0.038674   \n",
      "China                        0.0   0.126198  0.014377      0.241214   \n",
      "India                        0.0   0.171429       0.0      0.192857   \n",
      "\n",
      "              Media & Entertainment Metals & Mining Real Estate   Service  \\\n",
      "Country                                                                     \n",
      "United States              0.052486        0.002762     0.06768  0.027624   \n",
      "China                      0.023962        0.025559    0.087859  0.043131   \n",
      "India                      0.007143        0.021429    0.057143  0.028571   \n",
      "\n",
      "                 Sports Technology   Telecom  \n",
      "Country                                       \n",
      "United States  0.031768    0.19337  0.005525  \n",
      "China               0.0   0.177316   0.00639  \n",
      "India               0.0   0.085714  0.007143  \n"
     ]
    }
   ],
   "source": [
    "# List of industries: industry_list\n",
    "# List of top 3 countries: top_3_countries \n",
    "# Numbers of those countries' workers by industry: df_country_industry_top_3 (need to sum up rows now)\n",
    "\n",
    "# Df for storing percentages for top 3 countries' bill.s:\n",
    "percents_top_3 = pd.DataFrame(index = top_3_countries, columns = industry_list) \n",
    "\n",
    "#  Df of sums of bill.s in top 3 countries: \n",
    "top_3_country_totals = pd.DataFrame(index = top_3_countries, columns = ['Total'])\n",
    "for country in top_3_countries:\n",
    "    top_3_country_totals.loc[country, 'Total'] = df_country_industry_top_3.loc[country].sum()\n",
    "##print(top_3_country_totals) # out: [724, 626, 140]\n",
    "\n",
    "for country in top_3_countries:\n",
    "    for industry in industry_list:\n",
    "        percents_top_3.loc[country, industry] = df_country_industry_top_3.loc[country, industry] / top_3_country_totals.loc[country, 'Total']\n",
    "print(percents_top_3)"
   ]
  },
  {
   "cell_type": "markdown",
   "metadata": {},
   "source": [
    "### D.5. 📊 Visualizing the Relationship Between Country and Industry Sector [1 points]\n",
    "\n",
    "Let’s create a **side-by-side bar plot** to visualize the percentages calculated in **D.4.**, showing the **distribution of industries within each of the top three countries**.\n",
    "\n",
    "This chart should include:\n",
    "- One bar per industry per country\n",
    "- Grouped bars by country\n",
    "- Properly labeled axes and a clear, descriptive title"
   ]
  },
  {
   "cell_type": "code",
   "execution_count": 264,
   "metadata": {},
   "outputs": [
    {
     "data": {
      "image/png": "[encoded data removed]",
      "text/plain": [
       "<Figure size 1000x600 with 1 Axes>"
      ]
     },
     "metadata": {},
     "output_type": "display_data"
    }
   ],
   "source": [
    "# Reset the index to make 'Country' a column\n",
    "percents_top_3_reset = percents_top_3.reset_index()\n",
    "\n",
    "percents_top_3_reset = percents_top_3.reset_index().rename(columns={'index': 'Country'})\n",
    "percents_top_3_melted = percents_top_3_reset.melt(id_vars='Country', var_name='Industry', value_name='Percentage')\n",
    "    # Note: so .melt() changes the data from wide format (w/ many cols) to long format (Country/Industry/Percentage),\n",
    "    # allowing the seaborn library to treat each row as a single observation. \n",
    "\n",
    "# Create the bar plot using seaborn\n",
    "plt.figure(figsize=(10, 6))\n",
    "sns.barplot(x='Country', y='Percentage', hue='Industry', data=percents_top_3_melted)\n",
    "\n",
    "# Add titles and labels\n",
    "plt.title('Percentage of Billionaires by Country and Industry')\n",
    "plt.xlabel('Country')\n",
    "plt.ylabel('Percentage')\n",
    "plt.legend(title='Industry', bbox_to_anchor=(1.05, 1), loc='upper left')\n",
    "\n",
    "# Show the plot\n",
    "plt.show()"
   ]
  },
  {
   "cell_type": "markdown",
   "metadata": {},
   "source": [
    "### D.6. Association [1 points]\n",
    "\n",
    "**Is there an association between a billionaire’s country of residence in 2021 and the industry in which they earned their wealth? Explain your reasoning.**\n",
    "\n",
    "To answer this, consider:\n",
    "\n",
    "- Do certain industries appear to dominate in specific countries?\n",
    "- Are there noticeable patterns where some countries have a strong presence in industries like **technology**, **finance**, or **manufacturing**, while others do not?\n",
    "- Does the distribution of industries **vary significantly** from one country to another? \n",
    "\n",
    "Please explain your answer"
   ]
  },
  {
   "cell_type": "markdown",
   "metadata": {},
   "source": [
    "I think there's certainly an association between a billionaire's country of residence (in 2021) and the industry in which they earned their wealth. The clearest example is the extremely high proportion of billionaires in the \"Finance and Investments\" industry in the U.S. contrasting with the surprisingly low proportions in that field in both China and India. On the other hand, the latter two have similarly high dominance in \"Manufacturing\", which makes sense since both China and India are known to be centers of manufacturing (much more so than the U.S.). \n",
    "\n",
    "India has a more even distribution of billionaires across many of its industries, with some emphasis on \"Healthcare\" & \"Manufacturing\", while the U.S. has a very polarized distribution (\"Finance and Investments\" & \"Technology\" dominate). China is mixed, but definitely stands out in \"Manufacturing\" & \"Technology\". \n",
    "\n",
    "In short, while there is overlap in industries where billionaires are prominent, the differences in distributions imply that there is an association between a billionaire's country of residence and their industry. "
   ]
  },
  {
   "cell_type": "markdown",
   "metadata": {},
   "source": [
    "## E. Billionaires in Their 40s vs. 50s\n",
    "\n",
    "In this section, we’ll explore how **young billionaires** compare by decade — specifically, those in their **20s** versus those in their **30s**.\n",
    "\n",
    "---\n",
    "\n",
    "### E.1. Billionaires in Their 40s [1 points]\n",
    "\n",
    "Calculate the **average net worth** of billionaires who are currently in their **40s**."
   ]
  },
  {
   "cell_type": "code",
   "execution_count": 265,
   "metadata": {},
   "outputs": [
    {
     "name": "stdout",
     "output_type": "stream",
     "text": [
      "$ 4.737627118644069 billion\n"
     ]
    },
    {
     "name": "stderr",
     "output_type": "stream",
     "text": [
      "/var/folders/hz/hjqjxs0908g99khf9sknshhc0000gn/T/ipykernel_60123/3206193439.py:2: UserWarning: Boolean Series key will be reindexed to match DataFrame index.\n",
      "  forties_billionaires = df[df['Age(years)'] >= 40][df['Age(years)'] < 50]\n"
     ]
    }
   ],
   "source": [
    "# Filter for bill.s in 40s\n",
    "forties_billionaires = df[df['Age(years)'] >= 40][df['Age(years)'] < 50]\n",
    "# Get avg\n",
    "avg_net_worth_40s = forties_billionaires['NetWorth(unit: billions)'].mean()\n",
    "print(\"$\", avg_net_worth_40s, \"billion\")"
   ]
  },
  {
   "cell_type": "markdown",
   "metadata": {},
   "source": [
    "### E.2. Billionaires in Their 50s [1 points]\n",
    "\n",
    "Now calculate the **average net worth** of billionaires who are in their **50s**."
   ]
  },
  {
   "cell_type": "code",
   "execution_count": 266,
   "metadata": {},
   "outputs": [
    {
     "name": "stdout",
     "output_type": "stream",
     "text": [
      "$ 4.399075297225892 billion\n"
     ]
    },
    {
     "name": "stderr",
     "output_type": "stream",
     "text": [
      "/var/folders/hz/hjqjxs0908g99khf9sknshhc0000gn/T/ipykernel_60123/768967707.py:2: UserWarning: Boolean Series key will be reindexed to match DataFrame index.\n",
      "  fifties_billionaires = df[df['Age(years)'] >= 50][df['Age(years)'] < 60]\n"
     ]
    }
   ],
   "source": [
    "# Filter for bill.s in 50s\n",
    "fifties_billionaires = df[df['Age(years)'] >= 50][df['Age(years)'] < 60]\n",
    "# Get avg\n",
    "avg_net_worth_50s = fifties_billionaires['NetWorth(unit: billions)'].mean()\n",
    "print(\"$\", avg_net_worth_50s, \"billion\")"
   ]
  },
  {
   "cell_type": "markdown",
   "metadata": {},
   "source": [
    "### E.3. What Percent of 2021 Billionaires Are in Their 40s? [1 points]\n",
    "\n",
    "Calculate the **percentage** of 2021 billionaires who are in their **40s**. \n",
    "> 🧠 **Note:** Your final answer should be written in **a single line of code** to receive full credit."
   ]
  },
  {
   "cell_type": "code",
   "execution_count": 267,
   "metadata": {},
   "outputs": [
    {
     "name": "stdout",
     "output_type": "stream",
     "text": [
      "10.707803992740471 %\n"
     ]
    }
   ],
   "source": [
    "print(100 * forties_billionaires.shape[0] / df.shape[0], \"%\")"
   ]
  },
  {
   "cell_type": "markdown",
   "metadata": {},
   "source": [
    "### E.4. What Percent of 2021 Billionaires Are in Their 50s? [1 points]\n",
    "\n",
    "Calculate the **percentage** of 2021 billionaires who are in their **50s**.\n",
    "> 🧠 **Note:** Your final answer should be written in **a single line of code** to receive full credit."
   ]
  },
  {
   "cell_type": "code",
   "execution_count": 268,
   "metadata": {},
   "outputs": [
    {
     "name": "stdout",
     "output_type": "stream",
     "text": [
      "27.477313974591652 %\n"
     ]
    }
   ],
   "source": [
    "print(100 * fifties_billionaires.shape[0] / df.shape[0], \"%\")"
   ]
  },
  {
   "cell_type": "markdown",
   "metadata": {},
   "source": [
    "### E.5. What Percentage of Billionaires in Their 40s Live in the United States? [1 points]\n",
    "\n",
    "Calculate the **percentage of billionaires in their 40s** who **live in the United States**.\n",
    "> 🧠 **Note:** Your final answer should be written in **a single line of code** to receive full credit."
   ]
  },
  {
   "cell_type": "code",
   "execution_count": 269,
   "metadata": {},
   "outputs": [
    {
     "name": "stdout",
     "output_type": "stream",
     "text": [
      "2.1052631578947367 %\n"
     ]
    },
    {
     "name": "stderr",
     "output_type": "stream",
     "text": [
      "/var/folders/hz/hjqjxs0908g99khf9sknshhc0000gn/T/ipykernel_60123/3348190359.py:1: UserWarning: Boolean Series key will be reindexed to match DataFrame index.\n",
      "  print(100 * forties_billionaires[df['Country'] == \"United States\"].shape[0] / df.shape[0], \"%\")\n"
     ]
    }
   ],
   "source": [
    "print(100 * forties_billionaires[df['Country'] == \"United States\"].shape[0] / df.shape[0], \"%\")"
   ]
  },
  {
   "cell_type": "markdown",
   "metadata": {},
   "source": [
    "### E.6. What Percentage of Billionaires in Their 50s Live in the United States? [1 points]\n",
    "\n",
    "Calculate the **percentage of billionaires in their 50s** who **live in the United States**.\n",
    "> 🧠 **Note:** Your final answer should be written in **a single line of code** to receive full credit."
   ]
  },
  {
   "cell_type": "code",
   "execution_count": 270,
   "metadata": {},
   "outputs": [
    {
     "name": "stdout",
     "output_type": "stream",
     "text": [
      "4.972776769509982 %\n"
     ]
    },
    {
     "name": "stderr",
     "output_type": "stream",
     "text": [
      "/var/folders/hz/hjqjxs0908g99khf9sknshhc0000gn/T/ipykernel_60123/764678253.py:1: UserWarning: Boolean Series key will be reindexed to match DataFrame index.\n",
      "  print(100 * fifties_billionaires[df['Country'] == \"United States\"].shape[0] / df.shape[0], \"%\")\n"
     ]
    }
   ],
   "source": [
    "print(100 * fifties_billionaires[df['Country'] == \"United States\"].shape[0] / df.shape[0], \"%\")"
   ]
  }
 ],
 "metadata": {
  "kernelspec": {
   "display_name": "base",
   "language": "python",
   "name": "python3"
  },
  "language_info": {
   "codemirror_mode": {
    "name": "ipython",
    "version": 3
   },
   "file_extension": ".py",
   "mimetype": "text/x-python",
   "name": "python",
   "nbconvert_exporter": "python",
   "pygments_lexer": "ipython3",
   "version": "3.12.7"
  }
 },
 "nbformat": 4,
 "nbformat_minor": 4
}
