{
 "cells": [
  {
   "cell_type": "markdown",
   "metadata": {},
   "source": [
    "# **STATS 68: Lab Group Assignment 2**\n",
    "### **Points: 5**\n",
    "\n",
    "---\n",
    "\n",
    "Welcome to the second group lab assignment for STATS 68. This assignment focuses on applying the data descriptive analysis to the **forbes** dataset which we have worked on before. Dive deep, discover patterns, and prepare to share your insights!\n",
    "\n",
    "## **Submission Guidelines:**\n",
    "\n",
    "- Collaborate with your group members (up to 3 students). \n",
    "- Make sure to write all members' name and contributions of this assignment. For each group, it is sufficient to submit one group assignment. \n",
    "- Submit the assignment via version-control tool, i.e, git. \n",
    "- Due: Wednesday, 04/16/2025, 11:59pm PDT. \n",
    "\n",
    "## **Important Steps for Completing Notebook:**\n",
    "\n",
    "1. **Regular Saving**: Frequently save your progress by clicking the save icon above. This ensures that all changes are preserved on your local computer.\n",
    "\n",
    "2. **Final Checks**:\n",
    "   - Before finalizing, restart the kernel and run all cells to ensure that your notebook executes correctly from start to finish.\n",
    "   - Verify that no outputs or calculations have changed unexpectedly after rerunning the cells.\n",
    "\n",
    "---\n",
    "\n",
    "Good luck, and enjoy exploring your dataset!\n"
   ]
  },
  {
   "cell_type": "markdown",
   "metadata": {},
   "source": [
    "### 1. Group Members and Contributions \n",
    "\n",
    "**Group Name**:   Xinyue Liang & Kat Strekalova \n",
    "**Contributions**: \n",
    "\n",
    "*E.g., Group Name: Mike and Jack  \n",
    "Contributions: Mike did #1 and #3, Jack did #2, #4.*"
   ]
  },
  {
   "cell_type": "markdown",
   "metadata": {},
   "source": [
    "#### Please analyze the **forbes.csv** to answer the following questions, you need to write the python code and use markdown to present your answer"
   ]
  },
  {
   "cell_type": "markdown",
   "metadata": {},
   "source": [
    "### 2. Country Selection (0.5 points)\n",
    "- Choose **two countries** to focus your analysis on.\n",
    "    We chose France & China."
   ]
  },
  {
   "cell_type": "markdown",
   "metadata": {},
   "source": [
    "### 3. Net Worth Comparison (1 points)\n",
    "- Which of the two countries has the **higher average net worth** among its billionaires?"
   ]
  },
  {
   "cell_type": "code",
   "execution_count": 1,
   "metadata": {},
   "outputs": [
    {
     "name": "stdout",
     "output_type": "stream",
     "text": [
      "Country\n",
      "China      4.044569\n",
      "France    12.195238\n",
      "Name: NetWorth(unit: billions), dtype: float64\n",
      "12.195238095238096\n"
     ]
    }
   ],
   "source": [
    "import pandas as pd\n",
    "\n",
    "df = pd.read_csv('forbes.csv', header=0)\n",
    "\n",
    "countries = ['France', 'China']\n",
    "df_filtered = df[df['Country'].isin(countries)].copy()\n",
    "\n",
    "# Average net worth by country:\n",
    "avg_networth = df_filtered.groupby('Country')['NetWorth(unit: billions)'].mean()\n",
    "print(avg_networth)\n",
    "\n",
    "# Which of the two countries has the higher average net worth among its billionaires?\n",
    "higher_avg_net_worth = avg_networth.max()\n",
    "print(higher_avg_net_worth)"
   ]
  },
  {
   "cell_type": "markdown",
   "metadata": {},
   "source": [
    "### 4. Youngest Billionaire (1 points)\n",
    "- Which country is home to the **youngest billionaire**?"
   ]
  },
  {
   "cell_type": "code",
   "execution_count": 2,
   "metadata": {},
   "outputs": [
    {
     "name": "stdout",
     "output_type": "stream",
     "text": [
      "China\n"
     ]
    }
   ],
   "source": [
    "# Row w/ youngest age\n",
    "youngest_billionaire_age = df_filtered.groupby('Country')['Age(years)'].min()\n",
    "#print(youngest_billionaire_age)\n",
    "\n",
    "younger_country = youngest_billionaire_age.idxmin()\n",
    "print(younger_country)"
   ]
  },
  {
   "cell_type": "markdown",
   "metadata": {},
   "source": [
    "### 5. Average Age (1 point)\n",
    "- Which country’s billionaires have the **higher average age**?"
   ]
  },
  {
   "cell_type": "code",
   "execution_count": 3,
   "metadata": {},
   "outputs": [
    {
     "name": "stdout",
     "output_type": "stream",
     "text": [
      "France\n"
     ]
    }
   ],
   "source": [
    "countries_averages = df_filtered.groupby('Country')['Age(years)'].mean()\n",
    "highest_avg_age = countries_averages.idxmax()\n",
    "print(highest_avg_age)"
   ]
  },
  {
   "cell_type": "markdown",
   "metadata": {},
   "source": [
    "### 6. Technology Sector Involvement (1.5 points)\n",
    "- Among the two countries, which has a **greater proportion of billionaires working in the technology industry**?"
   ]
  },
  {
   "cell_type": "code",
   "execution_count": 4,
   "metadata": {},
   "outputs": [
    {
     "name": "stdout",
     "output_type": "stream",
     "text": [
      "China\n"
     ]
    }
   ],
   "source": [
    "# Proportion of French billionaires working in tech:\n",
    "french_billionaires = df_filtered[df_filtered['Country'] == \"France\"]\n",
    "french_tech = df_filtered[(df_filtered['Country'] == \"France\") & (df_filtered['Industry'] == \"Technology\")]\n",
    "fr_tech_prop = len(french_tech)/len(french_billionaires)\n",
    "\n",
    "# Proportion of Chinese billionaires working in tech:\n",
    "chinese_billionaires = df_filtered[df_filtered['Country'] == \"China\"]\n",
    "chinese_tech = df_filtered[(df_filtered['Country'] == \"China\") & (df_filtered['Industry'] == \"Technology\")]\n",
    "ch_tech_prop = len(chinese_tech)/len(chinese_billionaires)\n",
    "\n",
    "# Which country has the greater proportion?\n",
    "if( fr_tech_prop > ch_tech_prop ): print(\"France\")\n",
    "else: print(\"China\")"
   ]
  }
 ],
 "metadata": {
  "kernelspec": {
   "display_name": "Python [conda env:base] *",
   "language": "python",
   "name": "conda-base-py"
  },
  "language_info": {
   "codemirror_mode": {
    "name": "ipython",
    "version": 3
   },
   "file_extension": ".py",
   "mimetype": "text/x-python",
   "name": "python",
   "nbconvert_exporter": "python",
   "pygments_lexer": "ipython3",
   "version": "3.12.7"
  }
 },
 "nbformat": 4,
 "nbformat_minor": 4
}
